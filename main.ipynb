{
 "cells": [
  {
   "cell_type": "code",
   "execution_count": 1,
   "metadata": {},
   "outputs": [],
   "source": [
    "%load_ext autoreload\n",
    "%autoreload complete --print"
   ]
  },
  {
   "cell_type": "code",
   "execution_count": 2,
   "metadata": {},
   "outputs": [],
   "source": [
    "from pathlib import Path\n",
    "\n",
    "(Path(\".\") / \"my_db.db\").unlink(missing_ok=True)"
   ]
  },
  {
   "cell_type": "code",
   "execution_count": 3,
   "metadata": {},
   "outputs": [],
   "source": [
    "from src import Session, User, Base\n",
    "from wonderwords import RandomWord\n",
    "import os"
   ]
  },
  {
   "cell_type": "code",
   "execution_count": 4,
   "metadata": {},
   "outputs": [],
   "source": [
    "# Generates random words/sentences, useful for testing.\n",
    "ranword = RandomWord()"
   ]
  },
  {
   "cell_type": "code",
   "execution_count": 5,
   "metadata": {},
   "outputs": [
    {
     "name": "stdout",
     "output_type": "stream",
     "text": [
      "2024-09-08 20:38:32,470 INFO sqlalchemy.engine.Engine BEGIN (implicit)\n",
      "2024-09-08 20:38:32,470 INFO sqlalchemy.engine.Engine PRAGMA main.table_info(\"user\")\n",
      "2024-09-08 20:38:32,471 INFO sqlalchemy.engine.Engine [raw sql] ()\n",
      "2024-09-08 20:38:32,472 INFO sqlalchemy.engine.Engine PRAGMA temp.table_info(\"user\")\n",
      "2024-09-08 20:38:32,473 INFO sqlalchemy.engine.Engine [raw sql] ()\n",
      "2024-09-08 20:38:32,474 INFO sqlalchemy.engine.Engine \n",
      "CREATE TABLE user (\n",
      "\tid INTEGER NOT NULL, \n",
      "\tcreated DATETIME NOT NULL, \n",
      "\tusername VARCHAR NOT NULL, \n",
      "\tpasswd VARCHAR NOT NULL, \n",
      "\tis_active BOOLEAN NOT NULL, \n",
      "\tnickname VARCHAR, \n",
      "\tPRIMARY KEY (id)\n",
      ")\n",
      "\n",
      "\n",
      "2024-09-08 20:38:32,475 INFO sqlalchemy.engine.Engine [no key 0.00052s] ()\n",
      "2024-09-08 20:38:32,490 INFO sqlalchemy.engine.Engine CREATE UNIQUE INDEX ix_user_username ON user (username)\n",
      "2024-09-08 20:38:32,491 INFO sqlalchemy.engine.Engine [no key 0.00086s] ()\n",
      "2024-09-08 20:38:32,497 INFO sqlalchemy.engine.Engine COMMIT\n"
     ]
    }
   ],
   "source": [
    "# Create all tables.\n",
    "with Session.begin() as sess:\n",
    "    Base.metadata.create_all(sess.bind)"
   ]
  },
  {
   "cell_type": "code",
   "execution_count": 11,
   "metadata": {},
   "outputs": [
    {
     "name": "stdout",
     "output_type": "stream",
     "text": [
      "2024-09-08 20:43:14,657 INFO sqlalchemy.engine.Engine BEGIN (implicit)\n",
      "2024-09-08 20:43:14,658 INFO sqlalchemy.engine.Engine INSERT INTO user (created, username, passwd, is_active, nickname) VALUES (CURRENT_TIMESTAMP, ?, ?, ?, ?) RETURNING id, created\n",
      "2024-09-08 20:43:14,659 INFO sqlalchemy.engine.Engine [cached since 280.2s ago] ('shack', '682294e49b64580d7022069739ab3b', 1, None)\n",
      "2024-09-08 20:43:14,659 INFO sqlalchemy.engine.Engine COMMIT\n",
      "2024-09-08 20:43:14,673 INFO sqlalchemy.engine.Engine BEGIN (implicit)\n",
      "2024-09-08 20:43:14,674 INFO sqlalchemy.engine.Engine SELECT user.id AS user_id, user.created AS user_created, user.username AS user_username, user.passwd AS user_passwd, user.is_active AS user_is_active, user.nickname AS user_nickname \n",
      "FROM user \n",
      "WHERE user.id = ?\n",
      "2024-09-08 20:43:14,675 INFO sqlalchemy.engine.Engine [cached since 218.7s ago] (6,)\n",
      "User(id=6, username='shack', created=datetime.datetime(2024, 9, 8, 12, 43, 14), is_active=True, nickname=None)\n",
      "2024-09-08 20:43:14,675 INFO sqlalchemy.engine.Engine ROLLBACK\n",
      "User(id=None, username='carriage', created=None, is_active=None, nickname=None)\n",
      "2024-09-08 20:43:14,677 INFO sqlalchemy.engine.Engine BEGIN (implicit)\n",
      "2024-09-08 20:43:14,678 INFO sqlalchemy.engine.Engine INSERT INTO user (created, username, passwd, is_active, nickname) VALUES (CURRENT_TIMESTAMP, ?, ?, ?, ?) RETURNING id, created\n",
      "2024-09-08 20:43:14,678 INFO sqlalchemy.engine.Engine [cached since 280.2s ago] ('carriage', 'b3d12fc5805db7c633b60b2def720e', 1, None)\n",
      "2024-09-08 20:43:14,679 INFO sqlalchemy.engine.Engine COMMIT\n"
     ]
    }
   ],
   "source": [
    "with Session() as sess:\n",
    "    user = User(username=ranword.word(), passwd=os.urandom(15).hex())\n",
    "    sess.add(user)\n",
    "    sess.commit()\n",
    "    print(user)\n",
    "\n",
    "with Session.begin() as sess:\n",
    "    user = User(username=ranword.word(), passwd=os.urandom(15).hex())\n",
    "    sess.add(user)\n",
    "    print(user)\n",
    "\n",
    "# TODO: Make the whole echo-ing thing easy to turn on/off for learning purposes.\n",
    "# NOTE: Every read of user is query-backed, which means automatic properties like\n",
    "# defaults or autoincrementing ids aren't visible till commit.\n",
    "# In a session.begin() context, you cannot explicitly commit, so reading automatic\n",
    "# properties within the same context will return None for any automatic property,\n",
    "# even if said property is non-nullable or is supposed to have a default value."
   ]
  },
  {
   "cell_type": "code",
   "execution_count": null,
   "metadata": {},
   "outputs": [],
   "source": []
  }
 ],
 "metadata": {
  "kernelspec": {
   "display_name": "venv",
   "language": "python",
   "name": "python3"
  },
  "language_info": {
   "codemirror_mode": {
    "name": "ipython",
    "version": 3
   },
   "file_extension": ".py",
   "mimetype": "text/x-python",
   "name": "python",
   "nbconvert_exporter": "python",
   "pygments_lexer": "ipython3",
   "version": "3.12.6"
  }
 },
 "nbformat": 4,
 "nbformat_minor": 2
}
