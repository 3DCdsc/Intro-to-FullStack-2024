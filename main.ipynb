{
 "cells": [
  {
   "cell_type": "code",
   "execution_count": 1,
   "metadata": {},
   "outputs": [],
   "source": [
    "# Auto-reload imports so you don't have to keep restarting the notebook kernel.\n",
    "%load_ext autoreload\n",
    "%autoreload complete --print"
   ]
  },
  {
   "cell_type": "markdown",
   "metadata": {},
   "source": [
    "# Intro to Full Stack: Databases\n",
    "\n",
    "This applied practice will be focusing mainly on interacting with SQL databases\n",
    "through the widely used Object-Relational Mapping (ORM) library, SQLAlchemy.\n",
    "\n",
    "In this notebook, comments are provided for each significant code block to help you understand what it does. At the same time, you should cross-check with the cell's output to see the SQL queries being executed by SQLAlchemy for each code block."
   ]
  },
  {
   "cell_type": "markdown",
   "metadata": {},
   "source": [
    "## Miscellaneous\n",
    "\n",
    "Run through these after starting/restarting the notebook kernel."
   ]
  },
  {
   "cell_type": "code",
   "execution_count": 2,
   "metadata": {},
   "outputs": [],
   "source": [
    "from pathlib import Path\n",
    "\n",
    "cwd = Path.cwd()\n",
    "\n",
    "# File paths to the template database and the actual database this workshop will use.\n",
    "TEMPLATE_DB = cwd / \"src\" / \"template.db\"\n",
    "EXAMPLE_DB = cwd / \"my_db.db\""
   ]
  },
  {
   "cell_type": "markdown",
   "metadata": {},
   "source": [
    "### Enable Printing SQL Statements Made by SQLAlchemy"
   ]
  },
  {
   "cell_type": "code",
   "execution_count": null,
   "metadata": {},
   "outputs": [],
   "source": [
    "import logging\n",
    "\n",
    "# Log SQL statements made by SQLAlchemy, I suggest you turn this off once you get a hang of it.\n",
    "LOG_SQLALCHEMY = True\n",
    "\n",
    "logging.basicConfig()\n",
    "logging.getLogger(\"sqlalchemy.engine\").setLevel(\n",
    "    logging.INFO if LOG_SQLALCHEMY else logging.WARNING\n",
    ")\n",
    "\n",
    "print(\n",
    "    \"SQLAlchemy logging is enabled.\"\n",
    "    if LOG_SQLALCHEMY\n",
    "    else \"SQLAlchemy logging is disabled.\"\n",
    ")"
   ]
  },
  {
   "cell_type": "markdown",
   "metadata": {},
   "source": [
    "## Looking at Schemas\n",
    "\n",
    "First, view the `User` database schema in [`src/models/user.py`](src/models/user.py). Take note of the column types and special attributes like `default` and `unique`."
   ]
  },
  {
   "cell_type": "markdown",
   "metadata": {},
   "source": [
    "### Create All Tables\n",
    "\n",
    "Declaring the schema is not enough; We have to instruct SQLAlchemy to\n",
    "`CREATE TABLE` in the database based on the schemas. This has to be done once for\n",
    "a fresh database or when new schemas are added."
   ]
  },
  {
   "cell_type": "code",
   "execution_count": null,
   "metadata": {},
   "outputs": [],
   "source": [
    "from src import Session, Base\n",
    "\n",
    "# Delete existing database.\n",
    "try:\n",
    "    EXAMPLE_DB.unlink(missing_ok=True)\n",
    "except PermissionError:\n",
    "    raise RuntimeError(\n",
    "        \"The database file is already in use, restart the notebook if really want to delete it.\"\n",
    "    )\n",
    "\n",
    "# Create all tables.\n",
    "with Session.begin() as sess:\n",
    "    Base.metadata.create_all(sess.bind)\n"
   ]
  },
  {
   "cell_type": "markdown",
   "metadata": {},
   "source": [
    "### Reset Database File\n",
    "\n",
    "For this workshop however, I already prepared a database for you. Below copies it over :)"
   ]
  },
  {
   "cell_type": "code",
   "execution_count": null,
   "metadata": {},
   "outputs": [],
   "source": [
    "import shutil\n",
    "\n",
    "# Overwrite the workshop database with the prepared example database.\n",
    "shutil.copy(TEMPLATE_DB, EXAMPLE_DB)"
   ]
  },
  {
   "cell_type": "markdown",
   "metadata": {},
   "source": [
    "## Example: CRUD with Users\n",
    "\n",
    "First, lets generate some user details to play with."
   ]
  },
  {
   "cell_type": "code",
   "execution_count": null,
   "metadata": {},
   "outputs": [],
   "source": [
    "from src.utils import random_name, hash_passwd\n",
    "\n",
    "# Random username.\n",
    "EXAMPLE_USERNAME = random_name()\n",
    "# Password hash for \"password\".\n",
    "EXAMPLE_PASSWD = hash_passwd(\"password\")\n",
    "# The user ID will be assigned later.\n",
    "EXAMPLE_USER_ID = None\n",
    "\n",
    "print(f\"[Username for Example]\\n{EXAMPLE_USERNAME}\\n\")\n",
    "print(f\"[Password for Example]\\n{EXAMPLE_PASSWD}\")"
   ]
  },
  {
   "cell_type": "markdown",
   "metadata": {},
   "source": [
    "### Creating a User\n",
    "\n",
    "Below snippet creates a user with the given details, then adds it to the database."
   ]
  },
  {
   "cell_type": "code",
   "execution_count": null,
   "metadata": {},
   "outputs": [],
   "source": [
    "from src import Session, User\n",
    "\n",
    "with Session() as sess:\n",
    "    # User created from aforementioned random user details.\n",
    "    user = User(username=EXAMPLE_USERNAME, password=EXAMPLE_PASSWD)\n",
    "\n",
    "    # User is added to the current database session, but isn't \"saved\" yet.\n",
    "    sess.add(user)\n",
    "    \n",
    "    # Notice some values are None when the newly created user hasn't been committed?\n",
    "    print(f\"[`user` Before Commit]\\n{user}\\n\\n\", flush=True)\n",
    "\n",
    "    # Commit the session to save the user to the database.\n",
    "    print(\"[Committing...]\", flush=True)\n",
    "    sess.commit()\n",
    "    print(\"[Committed]\", flush=True)\n",
    "\n",
    "    # The user ID and other default values are now populated.\n",
    "    print(\"\\n\\n[Reading from DB...]\", flush=True)\n",
    "    # Operations that read user properties implicitly read from the database unless\n",
    "    # already cached in the session.\n",
    "    value = str(user)\n",
    "    print(f\"\\n\\n[`user` After Commit]\\n{value}\", flush=True)\n",
    "\n",
    "    # Set the user ID for later use in this notebook.\n",
    "    EXAMPLE_USER_ID = user.id"
   ]
  },
  {
   "cell_type": "markdown",
   "metadata": {},
   "source": [
    "Notice that until `sess.commit()` is called, the instance of `User` we created isn't populated with default values yet.\n",
    "\n",
    "Fields with default values like `id` change from None to their actual values only after the commit, even if the field is non-nullable. This means we shouldn't use the new instance until after its committed."
   ]
  },
  {
   "cell_type": "markdown",
   "metadata": {},
   "source": [
    "## Reading a User\n",
    "\n",
    "Below I show you some of the most common \"read\" operations you will do. For more\n",
    "kinds, see <https://docs.sqlalchemy.org/en/20/changelog/migration_20.html#id1>"
   ]
  },
  {
   "cell_type": "markdown",
   "metadata": {},
   "source": [
    "### By ID\n",
    "\n",
    "Using `EXAMPLE_USER_ID` from above, we can retrieve the user with that ID."
   ]
  },
  {
   "cell_type": "code",
   "execution_count": null,
   "metadata": {},
   "outputs": [],
   "source": [
    "with Session() as sess:\n",
    "    # SQLAlchemy `get` uses the schema type & id to query the database.\n",
    "    print(f\"[Query by id]\\n{EXAMPLE_USER_ID}\\n\", flush=True)\n",
    "    user = sess.get(User, EXAMPLE_USER_ID)\n",
    "    print(f\"\\n\\n[User retrieved by id]\\n{user}\")"
   ]
  },
  {
   "cell_type": "markdown",
   "metadata": {},
   "source": [
    "### Filtering Users By Exact Value\n",
    "\n",
    "We can also rerieve users by filtering on a specific column value. In this example, we find all users with nickname \"HEROBRINE\"."
   ]
  },
  {
   "cell_type": "code",
   "execution_count": null,
   "metadata": {},
   "outputs": [],
   "source": [
    "from sqlalchemy import select\n",
    "\n",
    "with Session() as sess:\n",
    "    print('[Filter `nickname` by \"HEROBRINE\"]', flush=True)\n",
    "    statement = select(User).filter_by(nickname=\"HEROBRINE\")\n",
    "    users = sess.execute(statement).scalars().all()\n",
    "    print(f\"\\n\\n[User retrieved by id]\\n{users}\")\n"
   ]
  },
  {
   "cell_type": "markdown",
   "metadata": {},
   "source": [
    "### Filtering Users By Criteria\n",
    "\n",
    "In this example, we find users created after 2020 and select the first one."
   ]
  },
  {
   "cell_type": "code",
   "execution_count": null,
   "metadata": {},
   "outputs": [],
   "source": []
  },
  {
   "cell_type": "markdown",
   "metadata": {},
   "source": [
    "### FYI: _By `index=True` Columns_\n",
    "\n",
    "You can read more about what indexes are used for here: <https://www.w3schools.com/sql/sql_create_index.asp>. Notice it is exactly the same as filtering. Meaning the index adds a transparent boost to the query speed. However, indexes shouldn't be used for all columns, do you know why?"
   ]
  },
  {
   "cell_type": "code",
   "execution_count": null,
   "metadata": {},
   "outputs": [],
   "source": [
    "\n",
    "with Session() as sess:\n",
    "    print(f\"[Query by username]\\n{EXAMPLE_USERNAME}\\n\", flush=True)\n",
    "    # `scalar_one()` expects exactly one result, raising `NoResultFound` or `MultipleResultsFound` otherwise.\n",
    "    sess.execute(select(User).filter_by(username=EXAMPLE_USERNAME)).scalar_one()\n",
    "    print(f\"\\n\\n[User retrieved by id]\\n{user}\")"
   ]
  },
  {
   "cell_type": "markdown",
   "metadata": {},
   "source": [
    "## Updating a User"
   ]
  },
  {
   "cell_type": "markdown",
   "metadata": {},
   "source": [
    "### After Being Found Above"
   ]
  },
  {
   "cell_type": "code",
   "execution_count": null,
   "metadata": {},
   "outputs": [],
   "source": []
  },
  {
   "cell_type": "markdown",
   "metadata": {},
   "source": [
    "### Updating Multiple Users"
   ]
  },
  {
   "cell_type": "code",
   "execution_count": null,
   "metadata": {},
   "outputs": [],
   "source": []
  },
  {
   "cell_type": "markdown",
   "metadata": {},
   "source": [
    "## Deleting a User"
   ]
  },
  {
   "cell_type": "code",
   "execution_count": null,
   "metadata": {},
   "outputs": [],
   "source": []
  },
  {
   "cell_type": "markdown",
   "metadata": {},
   "source": [
    "## Your Turn: Transactions CRUD"
   ]
  },
  {
   "cell_type": "markdown",
   "metadata": {},
   "source": [
    "### Writing the Schema\n",
    "\n",
    "Fill in the `Transaction` model in [`src/models/transaction.py`](src/models/transaction.py)."
   ]
  },
  {
   "cell_type": "markdown",
   "metadata": {},
   "source": [
    "### Testing Create"
   ]
  },
  {
   "cell_type": "code",
   "execution_count": null,
   "metadata": {},
   "outputs": [],
   "source": []
  },
  {
   "cell_type": "markdown",
   "metadata": {},
   "source": [
    "### Testing Read"
   ]
  },
  {
   "cell_type": "code",
   "execution_count": null,
   "metadata": {},
   "outputs": [],
   "source": []
  },
  {
   "cell_type": "markdown",
   "metadata": {},
   "source": [
    "#### Find by ID"
   ]
  },
  {
   "cell_type": "code",
   "execution_count": null,
   "metadata": {},
   "outputs": [],
   "source": []
  },
  {
   "cell_type": "markdown",
   "metadata": {},
   "source": [
    "#### Filter by Amount"
   ]
  },
  {
   "cell_type": "code",
   "execution_count": null,
   "metadata": {},
   "outputs": [],
   "source": []
  },
  {
   "cell_type": "markdown",
   "metadata": {},
   "source": [
    "### Testing Update"
   ]
  },
  {
   "cell_type": "code",
   "execution_count": null,
   "metadata": {},
   "outputs": [],
   "source": []
  },
  {
   "cell_type": "markdown",
   "metadata": {},
   "source": [
    "### Testing Delete\n"
   ]
  },
  {
   "cell_type": "code",
   "execution_count": null,
   "metadata": {},
   "outputs": [],
   "source": []
  }
 ],
 "metadata": {
  "kernelspec": {
   "display_name": "venv",
   "language": "python",
   "name": "python3"
  },
  "language_info": {
   "codemirror_mode": {
    "name": "ipython",
    "version": 3
   },
   "file_extension": ".py",
   "mimetype": "text/x-python",
   "name": "python",
   "nbconvert_exporter": "python",
   "pygments_lexer": "ipython3",
   "version": "3.12.6"
  }
 },
 "nbformat": 4,
 "nbformat_minor": 2
}
