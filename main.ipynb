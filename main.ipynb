{
 "cells": [
  {
   "cell_type": "markdown",
   "metadata": {},
   "source": [
    "# Intro to Full Stack: Databases\n",
    "\n",
    "This applied practice will be focusing mainly on interacting with SQL databases\n",
    "through the widely used Object-Relational Mapping (ORM) library, SQLAlchemy."
   ]
  },
  {
   "cell_type": "markdown",
   "metadata": {},
   "source": [
    "## Miscellaneous\n",
    "\n",
    "Run through these after starting/restarting the notebook kernel."
   ]
  },
  {
   "cell_type": "markdown",
   "metadata": {},
   "source": [
    "### Auto-Reload Imports"
   ]
  },
  {
   "cell_type": "code",
   "execution_count": 1,
   "metadata": {},
   "outputs": [],
   "source": [
    "# Auto-reload imports so you don't have to keep restarting the notebook kernel.\n",
    "%load_ext autoreload\n",
    "%autoreload complete --print"
   ]
  },
  {
   "cell_type": "markdown",
   "metadata": {},
   "source": [
    "### Enable Printing SQL Statements Made by SQLAlchemy"
   ]
  },
  {
   "cell_type": "code",
   "execution_count": 2,
   "metadata": {},
   "outputs": [],
   "source": [
    "import logging\n",
    "\n",
    "# Log SQL statements made by SQLAlchemy, I suggest you turn this off once you get a hang of it.\n",
    "LOG_SQLALCHEMY = True\n",
    "\n",
    "logging.basicConfig()\n",
    "logging.getLogger(\"sqlalchemy.engine\").setLevel(\n",
    "    logging.INFO if LOG_SQLALCHEMY else logging.WARNING\n",
    ")"
   ]
  },
  {
   "cell_type": "markdown",
   "metadata": {},
   "source": [
    "### Delete Previous Database File"
   ]
  },
  {
   "cell_type": "code",
   "execution_count": 3,
   "metadata": {},
   "outputs": [],
   "source": [
    "from pathlib import Path\n",
    "\n",
    "# Delete the sqlite3 database to start test from scratch.\n",
    "(Path(\".\") / \"my_db.db\").unlink(missing_ok=True)\n"
   ]
  },
  {
   "cell_type": "markdown",
   "metadata": {},
   "source": [
    "### Create All Tables"
   ]
  },
  {
   "cell_type": "code",
   "execution_count": null,
   "metadata": {},
   "outputs": [],
   "source": [
    "from src import Session, Base\n",
    "\n",
    "# Create all tables.\n",
    "with Session.begin() as sess:\n",
    "    Base.metadata.create_all(sess.bind)\n"
   ]
  },
  {
   "cell_type": "markdown",
   "metadata": {},
   "source": [
    "## Example: CRUD with Users"
   ]
  },
  {
   "cell_type": "code",
   "execution_count": null,
   "metadata": {},
   "outputs": [],
   "source": [
    "from src.utils import random_name, hash_passwd\n",
    "\n",
    "EXAMPLE_USERNAME = random_name()\n",
    "EXAMPLE_PASSWD = hash_passwd(\"password\")\n",
    "print(f\"[Username for Example]\\n{EXAMPLE_USERNAME}\\n\")\n",
    "print(f\"[Password for Example]\\n{EXAMPLE_PASSWD}\")"
   ]
  },
  {
   "cell_type": "markdown",
   "metadata": {},
   "source": [
    "### Creating a User\n",
    "\n",
    "Notice something interesting?"
   ]
  },
  {
   "cell_type": "code",
   "execution_count": null,
   "metadata": {},
   "outputs": [],
   "source": [
    "from src import Session, User\n",
    "\n",
    "with Session() as sess:\n",
    "    user = User(username=EXAMPLE_USERNAME, password=EXAMPLE_PASSWD)\n",
    "    sess.add(user)\n",
    "\n",
    "    print(f\"[`user` Before Commit]\\n{user}\\n\\n\", flush=True)\n",
    "    print(\"[Committing...]\", flush=True)\n",
    "    sess.commit()\n",
    "    print(\"[Committed]\", flush=True)\n",
    "\n",
    "    print(\"\\n\\n[Reading from DB...]\", flush=True)\n",
    "    value = str(user)\n",
    "    print(f\"\\n\\n[`user` After Commit]\\n{value}\", flush=True)"
   ]
  },
  {
   "cell_type": "markdown",
   "metadata": {},
   "source": [
    "Until `sess.commit()` is called, the instance of `User` we created isn't populated\n",
    "with default values yet. Rather, values like `id` change from None to their actual values only after the commit, even if the field is non-nullable. This means we can't rely on the instance until after the commit."
   ]
  },
  {
   "cell_type": "code",
   "execution_count": null,
   "metadata": {},
   "outputs": [],
   "source": []
  }
 ],
 "metadata": {
  "kernelspec": {
   "display_name": "venv",
   "language": "python",
   "name": "python3"
  },
  "language_info": {
   "codemirror_mode": {
    "name": "ipython",
    "version": 3
   },
   "file_extension": ".py",
   "mimetype": "text/x-python",
   "name": "python",
   "nbconvert_exporter": "python",
   "pygments_lexer": "ipython3",
   "version": "3.12.6"
  }
 },
 "nbformat": 4,
 "nbformat_minor": 2
}
