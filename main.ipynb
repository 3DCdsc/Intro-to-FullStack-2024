{
 "cells": [
  {
   "cell_type": "markdown",
   "metadata": {},
   "source": [
    "# Intro to Full Stack: Databases\n",
    "\n",
    "This applied practice will be focusing mainly on interacting with SQL databases\n",
    "through the widely used Object-Relational Mapping (ORM) library, SQLAlchemy."
   ]
  },
  {
   "cell_type": "markdown",
   "metadata": {},
   "source": [
    "## Miscellaneous\n",
    "\n",
    "Run through these after starting/restarting the notebook kernel."
   ]
  },
  {
   "cell_type": "markdown",
   "metadata": {},
   "source": [
    "### Auto-Reload Imports"
   ]
  },
  {
   "cell_type": "code",
   "execution_count": 1,
   "metadata": {},
   "outputs": [],
   "source": [
    "# Auto-reload imports so you don't have to keep restarting the notebook kernel.\n",
    "%load_ext autoreload\n",
    "%autoreload complete --print"
   ]
  },
  {
   "cell_type": "markdown",
   "metadata": {},
   "source": [
    "### Enable Printing SQL Statements Made by SQLAlchemy"
   ]
  },
  {
   "cell_type": "code",
   "execution_count": 2,
   "metadata": {},
   "outputs": [],
   "source": [
    "import logging\n",
    "\n",
    "# Log SQL statements made by SQLAlchemy, I suggest you turn this off once you get a hang of it.\n",
    "LOG_SQLALCHEMY = True\n",
    "\n",
    "logging.basicConfig()\n",
    "logging.getLogger(\"sqlalchemy.engine\").setLevel(\n",
    "    logging.INFO if LOG_SQLALCHEMY else logging.WARNING\n",
    ")"
   ]
  },
  {
   "cell_type": "markdown",
   "metadata": {},
   "source": [
    "### Reset Database File"
   ]
  },
  {
   "cell_type": "code",
   "execution_count": null,
   "metadata": {},
   "outputs": [],
   "source": [
    "import shutil\n",
    "from pathlib import Path\n",
    "\n",
    "cwd = Path.cwd()\n",
    "# Overwrite the workshop database with the prepared example database.\n",
    "shutil.copy(cwd / \"src\" / \"example.db\", cwd / \"my_db.db\")"
   ]
  },
  {
   "cell_type": "markdown",
   "metadata": {},
   "source": [
    "### FYI: Create All Tables\n",
    "\n",
    "This won't log any SQL `CREATE TABLE` since the prepared example database already\n",
    "contains the tables. Nonetheless, when you write your own code, you have to do\n",
    "this at least once to create the tables for a new database."
   ]
  },
  {
   "cell_type": "code",
   "execution_count": null,
   "metadata": {},
   "outputs": [],
   "source": [
    "from src import Session, Base\n",
    "\n",
    "# Create all tables.\n",
    "with Session.begin() as sess:\n",
    "    Base.metadata.create_all(sess.bind)\n"
   ]
  },
  {
   "cell_type": "markdown",
   "metadata": {},
   "source": [
    "## Example: CRUD with Users"
   ]
  },
  {
   "cell_type": "code",
   "execution_count": null,
   "metadata": {},
   "outputs": [],
   "source": [
    "from src.utils import random_name, hash_passwd\n",
    "\n",
    "EXAMPLE_USERNAME = random_name()\n",
    "EXAMPLE_PASSWD = hash_passwd(\"password\")\n",
    "EXAMPLE_USER_ID = None  # Placeholder for the user ID which will be assigned later.\n",
    "print(f\"[Username for Example]\\n{EXAMPLE_USERNAME}\\n\")\n",
    "print(f\"[Password for Example]\\n{EXAMPLE_PASSWD}\")"
   ]
  },
  {
   "cell_type": "markdown",
   "metadata": {},
   "source": [
    "### Examining the User Schema\n",
    "\n",
    "First, view the `User` database schema in [`src/models/user.py`](src/models/user.py)."
   ]
  },
  {
   "cell_type": "markdown",
   "metadata": {},
   "source": [
    "### Creating a User\n",
    "\n",
    "Notice something interesting?"
   ]
  },
  {
   "cell_type": "code",
   "execution_count": null,
   "metadata": {},
   "outputs": [],
   "source": [
    "from src import Session, User\n",
    "\n",
    "with Session() as sess:\n",
    "    user = User(username=EXAMPLE_USERNAME, password=EXAMPLE_PASSWD)\n",
    "    sess.add(user)\n",
    "\n",
    "    print(f\"[`user` Before Commit]\\n{user}\\n\\n\", flush=True)\n",
    "    print(\"[Committing...]\", flush=True)\n",
    "    sess.commit()\n",
    "    print(\"[Committed]\", flush=True)\n",
    "\n",
    "    print(\"\\n\\n[Reading from DB...]\", flush=True)\n",
    "    value = str(user)\n",
    "    print(f\"\\n\\n[`user` After Commit]\\n{value}\", flush=True)\n",
    "\n",
    "    EXAMPLE_USER_ID = user.id"
   ]
  },
  {
   "cell_type": "markdown",
   "metadata": {},
   "source": [
    "Until `sess.commit()` is called, the instance of `User` we created isn't populated\n",
    "with default values yet. Rather, values like `id` change from None to their actual values only after the commit, even if the field is non-nullable. This means we can't rely on the instance until after the commit."
   ]
  },
  {
   "cell_type": "markdown",
   "metadata": {},
   "source": [
    "## Reading a User"
   ]
  },
  {
   "cell_type": "markdown",
   "metadata": {},
   "source": [
    "### By ID"
   ]
  },
  {
   "cell_type": "markdown",
   "metadata": {},
   "source": [
    "### By Other `index=True` Columns"
   ]
  },
  {
   "cell_type": "markdown",
   "metadata": {},
   "source": [
    "### Searching for Users"
   ]
  },
  {
   "cell_type": "markdown",
   "metadata": {},
   "source": [
    "### Filtering Users"
   ]
  },
  {
   "cell_type": "markdown",
   "metadata": {},
   "source": [
    "## Updating a User"
   ]
  },
  {
   "cell_type": "markdown",
   "metadata": {},
   "source": [
    "### After Being Found Above"
   ]
  },
  {
   "cell_type": "markdown",
   "metadata": {},
   "source": [
    "### Updating Multiple Users"
   ]
  },
  {
   "cell_type": "markdown",
   "metadata": {},
   "source": [
    "## Deleting a User"
   ]
  },
  {
   "cell_type": "markdown",
   "metadata": {},
   "source": [
    "## Your Turn: Transactions CRUD"
   ]
  },
  {
   "cell_type": "markdown",
   "metadata": {},
   "source": [
    "### Writing the Schema\n",
    "\n",
    "Fill in the `Transaction` model in [`src/models/transaction.py`](src/models/transaction.py)."
   ]
  },
  {
   "cell_type": "markdown",
   "metadata": {},
   "source": [
    "### Testing Create"
   ]
  },
  {
   "cell_type": "markdown",
   "metadata": {},
   "source": [
    "### Testing Read"
   ]
  },
  {
   "cell_type": "markdown",
   "metadata": {},
   "source": [
    "#### Find by ID"
   ]
  },
  {
   "cell_type": "markdown",
   "metadata": {},
   "source": [
    "#### Filter by Amount"
   ]
  },
  {
   "cell_type": "markdown",
   "metadata": {},
   "source": [
    "### Testing Update"
   ]
  },
  {
   "cell_type": "markdown",
   "metadata": {},
   "source": [
    "### Testing Delete\n"
   ]
  },
  {
   "cell_type": "markdown",
   "metadata": {},
   "source": []
  }
 ],
 "metadata": {
  "kernelspec": {
   "display_name": "venv",
   "language": "python",
   "name": "python3"
  },
  "language_info": {
   "codemirror_mode": {
    "name": "ipython",
    "version": 3
   },
   "file_extension": ".py",
   "mimetype": "text/x-python",
   "name": "python",
   "nbconvert_exporter": "python",
   "pygments_lexer": "ipython3",
   "version": "3.12.6"
  }
 },
 "nbformat": 4,
 "nbformat_minor": 2
}
